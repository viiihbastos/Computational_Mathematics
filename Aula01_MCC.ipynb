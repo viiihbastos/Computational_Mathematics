{
  "nbformat": 4,
  "nbformat_minor": 0,
  "metadata": {
    "colab": {
      "provenance": [],
      "gpuType": "T4"
    },
    "kernelspec": {
      "name": "python3",
      "display_name": "Python 3"
    },
    "language_info": {
      "name": "python"
    },
    "accelerator": "GPU"
  },
  "cells": [
    {
      "cell_type": "markdown",
      "source": [
        "# Métodos Simbólicos e Numéricos\n",
        "\n",
        "1.   Item da lista\n",
        "2.   Item da lista\n",
        "\n",
        "\n",
        "\n"
      ],
      "metadata": {
        "id": "01RkVuOyZKra"
      }
    },
    {
      "cell_type": "code",
      "execution_count": 1,
      "metadata": {
        "id": "K5YHKblHRV53"
      },
      "outputs": [],
      "source": [
        "import numpy as np\n",
        "import sympy as smp\n",
        "import matplotlib.pyplot as plt\n",
        "smp.init_printing()"
      ]
    },
    {
      "cell_type": "code",
      "source": [
        "x = smp.symbols('x', real=True)\n",
        "\n",
        "f =  (x**2)*smp.cos(x)\n",
        "\n",
        "g = smp.sin(x)\n",
        "\n",
        "h = x**3 + 2*x"
      ],
      "metadata": {
        "id": "Dl-OkZtOzToQ"
      },
      "execution_count": 41,
      "outputs": []
    },
    {
      "cell_type": "code",
      "source": [
        "f"
      ],
      "metadata": {
        "colab": {
          "base_uri": "https://localhost:8080/",
          "height": 39
        },
        "id": "NTwdTYFs01xm",
        "outputId": "eefc6fb0-76a4-4655-a43c-30a29e032af0"
      },
      "execution_count": 42,
      "outputs": [
        {
          "output_type": "execute_result",
          "data": {
            "text/plain": [
              " 2       \n",
              "x ⋅cos(x)"
            ],
            "text/latex": "$\\displaystyle x^{2} \\cos{\\left(x \\right)}$"
          },
          "metadata": {},
          "execution_count": 42
        }
      ]
    },
    {
      "cell_type": "code",
      "source": [
        "g.integrate(x)"
      ],
      "metadata": {
        "colab": {
          "base_uri": "https://localhost:8080/",
          "height": 39
        },
        "id": "ZhabPGT1epZE",
        "outputId": "7461bbca-f8d0-42b4-b485-72d457c0ac27"
      },
      "execution_count": 7,
      "outputs": [
        {
          "output_type": "execute_result",
          "data": {
            "text/plain": [
              "-cos(x)"
            ],
            "text/latex": "$\\displaystyle - \\cos{\\left(x \\right)}$"
          },
          "metadata": {},
          "execution_count": 7
        }
      ]
    },
    {
      "cell_type": "code",
      "source": [
        "h.diff(x,2)"
      ],
      "metadata": {
        "id": "BbN-QLYPYjo7",
        "colab": {
          "base_uri": "https://localhost:8080/",
          "height": 39
        },
        "outputId": "ee4b25eb-5bed-499e-91b0-612c7d597dee"
      },
      "execution_count": 8,
      "outputs": [
        {
          "output_type": "execute_result",
          "data": {
            "text/plain": [
              "6⋅x"
            ],
            "text/latex": "$\\displaystyle 6 x$"
          },
          "metadata": {},
          "execution_count": 8
        }
      ]
    },
    {
      "cell_type": "code",
      "source": [
        "g.limit(x, smp.pi)"
      ],
      "metadata": {
        "colab": {
          "base_uri": "https://localhost:8080/",
          "height": 37
        },
        "id": "eqKNRaiUOF-E",
        "outputId": "1e4d3e16-7a37-4c48-8e6f-7ef2f6cb92ed"
      },
      "execution_count": 48,
      "outputs": [
        {
          "output_type": "execute_result",
          "data": {
            "text/plain": [
              "0"
            ],
            "text/latex": "$\\displaystyle 0$"
          },
          "metadata": {},
          "execution_count": 48
        }
      ]
    },
    {
      "cell_type": "code",
      "source": [
        "x_s = np.linspace(-2*np.pi,2*np.pi, 100)\n",
        "\n",
        "f_s = smp.lambdify([x], f)\n",
        "#g_s = smp.lambdify([x], g)\n",
        "points = [i * np.pi/2 for i in range(-4, 5)]\n",
        "labels = [r\"$-2\\pi$\", r\"$-\\frac{3\\pi}{2}$\", r\"$-\\pi$\", r\"$-\\frac{\\pi}{2}$\", r\"$0$\",\n",
        "          r\"$\\frac{\\pi}{2}$\", r\"$\\pi$\", r\"$\\frac{3\\pi}{2}$\", r\"$2\\pi$\"]\n",
        "\n",
        "fig, ax  = plt.subplots()\n",
        "ax.plot(x_s, f_s(x_s))\n",
        "#ax.plot(x_s, g_s(x_s))\n",
        "ax.set_xticks(points)\n",
        "ax.set_xticklabels(labels)\n",
        "\n",
        "for pt in points:\n",
        "    ax.plot(pt, f_s(pt), \"ok\")\n",
        "    #ax.plot(pt, g_s(pt), \"ok\")\n",
        "\n",
        "#ax.hlines(0, x_s[0], x_s[-1], \"r\")\n",
        "plt.show()"
      ],
      "metadata": {
        "colab": {
          "base_uri": "https://localhost:8080/",
          "height": 440
        },
        "id": "pOBzxjVu07XC",
        "outputId": "55b7a64d-f9fb-4a5d-b9ae-a8ecf8406535"
      },
      "execution_count": 43,
      "outputs": [
        {
          "output_type": "display_data",
          "data": {
            "text/plain": [
              "<Figure size 640x480 with 1 Axes>"
            ],
            "image/png": "[encoded data removed]"
          },
          "metadata": {}
        }
      ]
    },
    {
      "cell_type": "code",
      "source": [],
      "metadata": {
        "id": "--dfSptHb1lk"
      },
      "execution_count": null,
      "outputs": []
    }
  ]
}